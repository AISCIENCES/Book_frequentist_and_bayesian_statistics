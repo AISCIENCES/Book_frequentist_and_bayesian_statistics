{
 "cells": [
  {
   "cell_type": "markdown",
   "metadata": {},
   "source": [
    "# Chapter 6: Statistical Inference"
   ]
  },
  {
   "cell_type": "code",
   "execution_count": 1,
   "metadata": {},
   "outputs": [
    {
     "name": "stdout",
     "output_type": "stream",
     "text": [
      "The population mean is 35.9784\n",
      "The sample mean is 35.544\n",
      "Difference of the means is  0.43440000000000367\n"
     ]
    },
    {
     "data": {
      "image/png": "[encoded data removed]",
      "text/plain": [
       "<Figure size 432x288 with 1 Axes>"
      ]
     },
     "metadata": {
      "needs_background": "light"
     },
     "output_type": "display_data"
    }
   ],
   "source": [
    "import numpy as np  \n",
    "import pandas as pd  \n",
    "import matplotlib.pyplot as plt  \n",
    "import scipy.stats as stats  \n",
    "  \n",
    "np.random.seed(12345)  \n",
    "population = stats.poisson.rvs(loc=12, mu=24, size=10000)  \n",
    "print('The population mean is', population.mean())  \n",
    "pd.Series(population).hist(density=True, zorder = 1, alpha=1, label = 'Population Histogram')  \n",
    "  \n",
    "# We estimate mean by taking a sample out of original population  \n",
    "np.random.seed(12345)  \n",
    "sample = np.random.choice(a= population, size=500)  # Sample 500 values  \n",
    "print ('The sample mean is', sample.mean())  \n",
    "pd.Series(sample).hist(density=True, zorder = 2,  alpha=0.5, label = 'Sample Histogram')  \n",
    "plt.legend()  \n",
    "  \n",
    "# We check the difference between two means  \n",
    "print(\"Difference of the means is \" ,population.mean() - sample.mean() )  # difference between means\n"
   ]
  },
  {
   "cell_type": "code",
   "execution_count": 2,
   "metadata": {},
   "outputs": [
    {
     "data": {
      "image/png": "[encoded data removed]",
      "text/plain": [
       "<Figure size 432x288 with 1 Axes>"
      ]
     },
     "metadata": {
      "needs_background": "light"
     },
     "output_type": "display_data"
    },
    {
     "name": "stdout",
     "output_type": "stream",
     "text": [
      "The mean student score is 59.626\n",
      "The mean student score is 59.626\n"
     ]
    }
   ],
   "source": [
    "np.random.seed(123)  \n",
    "student_score = np.random.normal(60, 10, 500).round()  \n",
    "plt.hist(student_score, bins = 10, density=True)   \n",
    "plt.show()  \n",
    "print('The mean student score is', student_score.mean()) \n",
    "print('The mean student score is', student_score.mean())  \n"
   ]
  },
  {
   "cell_type": "code",
   "execution_count": 3,
   "metadata": {},
   "outputs": [
    {
     "data": {
      "text/plain": [
       "2.5215872335107994"
      ]
     },
     "execution_count": 3,
     "metadata": {},
     "output_type": "execute_result"
    }
   ],
   "source": [
    "zscore = ( 85 - student_score.mean() ) / student_score.std()  \n",
    "zscore  \n"
   ]
  },
  {
   "cell_type": "code",
   "execution_count": 4,
   "metadata": {},
   "outputs": [
    {
     "data": {
      "text/plain": [
       "1.6448536269514722"
      ]
     },
     "execution_count": 4,
     "metadata": {},
     "output_type": "execute_result"
    }
   ],
   "source": [
    "stats.norm.ppf(0.95) "
   ]
  },
  {
   "cell_type": "code",
   "execution_count": 5,
   "metadata": {},
   "outputs": [
    {
     "data": {
      "text/plain": [
       "76.17768434215024"
      ]
     },
     "execution_count": 5,
     "metadata": {},
     "output_type": "execute_result"
    }
   ],
   "source": [
    "stats.norm.ppf(0.95)*student_score.std()+student_score.mean()  "
   ]
  },
  {
   "cell_type": "code",
   "execution_count": 6,
   "metadata": {},
   "outputs": [
    {
     "name": "stdout",
     "output_type": "stream",
     "text": [
      "The z-score = 2.522 and the p-value = 0.006\n"
     ]
    }
   ],
   "source": [
    "marks_to_check = 85  \n",
    "zscore = ( marks_to_check - student_score.mean() ) / student_score.std()   # getting z-score  \n",
    "p_val = 1 - stats.norm.cdf(zscore)        # getting the p-value  \n",
    "print(f'The z-score = {zscore:0.3f} and the p-value = {p_val:0.3f}') \n"
   ]
  },
  {
   "cell_type": "code",
   "execution_count": null,
   "metadata": {},
   "outputs": [],
   "source": []
  }
 ],
 "metadata": {
  "kernelspec": {
   "display_name": "Python 3",
   "language": "python",
   "name": "python3"
  },
  "language_info": {
   "codemirror_mode": {
    "name": "ipython",
    "version": 3
   },
   "file_extension": ".py",
   "mimetype": "text/x-python",
   "name": "python",
   "nbconvert_exporter": "python",
   "pygments_lexer": "ipython3",
   "version": "3.7.6"
  }
 },
 "nbformat": 4,
 "nbformat_minor": 4
}
