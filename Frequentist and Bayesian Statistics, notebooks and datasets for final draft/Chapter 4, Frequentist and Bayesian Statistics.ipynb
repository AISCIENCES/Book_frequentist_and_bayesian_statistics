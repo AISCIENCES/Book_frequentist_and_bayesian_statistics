{
 "cells": [
  {
   "cell_type": "markdown",
   "metadata": {},
   "source": [
    "# Chapter 4: Descriptive Statistics: Measure of Central Tendency and Spread"
   ]
  },
  {
   "cell_type": "code",
   "execution_count": 1,
   "metadata": {},
   "outputs": [
    {
     "name": "stdout",
     "output_type": "stream",
     "text": [
      "mean = 4.333\n",
      "median = 4.000\n",
      "mode = 8.000\n"
     ]
    }
   ],
   "source": [
    "import statistics as st  \n",
    "  \n",
    "raindata = [2, 5, 4, 4, 0, 2, 7, 8, 8, 8, 1, 3]  \n",
    "  \n",
    "# Printing the Mean, Median and the Mode of the data  \n",
    "print(\"mean = %0.3f\" %st.mean(raindata))  \n",
    "print(\"median = %0.3f\" %st.median(raindata))  \n",
    "print(\"mode = %0.3f\" %st.mode(raindata))  \n"
   ]
  },
  {
   "cell_type": "code",
   "execution_count": 2,
   "metadata": {},
   "outputs": [
    {
     "name": "stdout",
     "output_type": "stream",
     "text": [
      "The Q1 = 12.500, Q3 = 15.500 and the InterQuartile Range (IQR) = 3.000\n"
     ]
    }
   ],
   "source": [
    "### InterQuartile Range  \n",
    "  \n",
    "import pandas as pd  \n",
    "student_frame = pd.DataFrame({'Student Name': ['A','B','C', 'D','E','F','G'],   \n",
    "                              'Sex':['M','F','M','F','F','M','M'],   \n",
    "                              'Age': [10, 14, 18, 15, 16, 15, 11],   \n",
    "                              'School': ['Primary','High', 'High', 'High', 'High','High','Primary']})  \n",
    "  \n",
    " # 25% or quartile 1 (Q1)  \n",
    "Q1 = student_frame.quantile(0.25)    \n",
    " # 75% or quartile 3 (Q3)  \n",
    "Q3 = student_frame.quantile(0.75)    \n",
    " # InterQuartile Range (IQR)  \n",
    "IQR = Q3 - Q1                        \n",
    "print('The Q1 = %.3f, Q3 = %.3f and the InterQuartile Range (IQR) = %0.3f' %(Q1, Q3, IQR))\n"
   ]
  },
  {
   "cell_type": "code",
   "execution_count": 3,
   "metadata": {},
   "outputs": [
    {
     "name": "stdout",
     "output_type": "stream",
     "text": [
      "The range of the data is = 8.000\n",
      "population variance = 7.556\n",
      "population standard deviation = 2.749\n",
      "variance = 8.242\n",
      "standard deviation = 2.871\n"
     ]
    }
   ],
   "source": [
    "import statistics as st  \n",
    "  \n",
    "raindata = [2, 5, 4, 4, 0, 2, 7, 8, 8, 8, 1, 3]  \n",
    "  \n",
    "data_range = max(raindata)- min(raindata)  \n",
    "# Range of the data  \n",
    "print(\"The range of the data is = %0.3f\"  % data_range)  \n",
    "  \n",
    "# population variance  \n",
    "print(\"population variance = %0.3f\"  %st.pvariance(raindata))  \n",
    "# population standard deviation  \n",
    "print(\"population standard deviation = %0.3f\" %st.pstdev(raindata))  \n",
    "  \n",
    "# sample variance  \n",
    "print(\"variance = %0.3f\" %st.variance(raindata))  \n",
    "# sample standard deviation   \n",
    "print(\"standard deviation = %0.3f\" %st.stdev(raindata))\n"
   ]
  },
  {
   "cell_type": "code",
   "execution_count": 4,
   "metadata": {},
   "outputs": [
    {
     "name": "stdout",
     "output_type": "stream",
     "text": [
      "The variance of the data is Age       19.295455\n",
      "Grades     0.174115\n",
      "dtype: float64\n",
      "\n",
      "The standard deviation of the data is Age       4.392659\n",
      "Grades    0.417271\n",
      "dtype: float64\n"
     ]
    }
   ],
   "source": [
    "import pandas as pd  \n",
    "#Create a Dictionary of series  \n",
    "mydata = {'Name':pd.Series(['Liam',   'Olivia', 'Noah',   'Emma',     'Oliver', 'Ava',   \n",
    "                       'William','Sophia', 'Elijah', 'Isabella', 'James',  'Charlotte']),  \n",
    "   'Age':pd.Series([20,24,21,23,32,25,23,31,30,32,26,22]),  \n",
    "   'Grades':pd.Series([3.23,3.24,3.98,2.56,3.20,3.6,3.8,3.7,2.98,3.8, 3.10,3.65])}  \n",
    "#Creating a Pandas DataFrame  \n",
    "my_df = pd.DataFrame(mydata)  \n",
    "  \n",
    "# Calculating the variance and the standard deviation of the data   \n",
    "print('The variance of the data is', my_df.var())  \n",
    "  \n",
    "print('\\nThe standard deviation of the data is', my_df.std())  \n"
   ]
  },
  {
   "cell_type": "code",
   "execution_count": 6,
   "metadata": {},
   "outputs": [
    {
     "name": "stdout",
     "output_type": "stream",
     "text": [
      "The covariance between x and y is \n",
      "\n"
     ]
    },
    {
     "data": {
      "text/plain": [
       "array([[ 1.        ,  3.25      ],\n",
       "       [ 3.25      , 11.58333333]])"
      ]
     },
     "execution_count": 6,
     "metadata": {},
     "output_type": "execute_result"
    }
   ],
   "source": [
    "import numpy as np  \n",
    "mycov = np.cov([1, 2, 3], [1.0, 2.5, 7.5]) \n",
    "print('The covariance between x and y is \\n')  \n",
    "mycov  \n"
   ]
  },
  {
   "cell_type": "code",
   "execution_count": 7,
   "metadata": {},
   "outputs": [
    {
     "name": "stdout",
     "output_type": "stream",
     "text": [
      "The correlation between x and y is \n",
      "\n"
     ]
    },
    {
     "data": {
      "text/plain": [
       "array([[1.        , 0.95491911],\n",
       "       [0.95491911, 1.        ]])"
      ]
     },
     "execution_count": 7,
     "metadata": {},
     "output_type": "execute_result"
    }
   ],
   "source": [
    "mycorr = np.corrcoef([1, 2, 3], [1.0, 2.5, 7.5])\n",
    "print('The correlation between x and y is \\n')  \n",
    "mycorr \n"
   ]
  },
  {
   "cell_type": "code",
   "execution_count": null,
   "metadata": {},
   "outputs": [],
   "source": []
  }
 ],
 "metadata": {
  "kernelspec": {
   "display_name": "Python 3",
   "language": "python",
   "name": "python3"
  },
  "language_info": {
   "codemirror_mode": {
    "name": "ipython",
    "version": 3
   },
   "file_extension": ".py",
   "mimetype": "text/x-python",
   "name": "python",
   "nbconvert_exporter": "python",
   "pygments_lexer": "ipython3",
   "version": "3.7.6"
  }
 },
 "nbformat": 4,
 "nbformat_minor": 4
}
