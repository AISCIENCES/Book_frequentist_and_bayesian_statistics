{
 "cells": [
  {
   "cell_type": "markdown",
   "metadata": {},
   "source": [
    "# Chapter 2 Starting with Probability"
   ]
  },
  {
   "cell_type": "code",
   "execution_count": 1,
   "metadata": {},
   "outputs": [
    {
     "name": "stdout",
     "output_type": "stream",
     "text": [
      "The probability of getting an ace = 0.077\n",
      "The probability of getting a red card = 0.5\n",
      "\n",
      "The probability of getting an ace in percentage = 7.7%\n",
      "The probability of getting a red card in percentage = 50.0%\n"
     ]
    }
   ],
   "source": [
    "## Calculating probability of events   \n",
    "  \n",
    "# Sample Space  \n",
    "num_cards = 52  \n",
    "  \n",
    "# Favorable Outcomes  \n",
    "num_aces = 4  \n",
    "  \n",
    "num_hearts = 13  \n",
    "num_diamonds = 13  \n",
    "  \n",
    "# Divide favorable outcomes by the total number of elements in the sample space  \n",
    "prob_ace = num_aces / num_cards  \n",
    "  \n",
    "prob_red_card = (num_hearts+ num_diamonds) / num_cards  \n",
    "  \n",
    "\n",
    "# Print probability rounded to two decimal places  \n",
    "print('The probability of getting an ace =', round(prob_ace, 3))  \n",
    "print('The probability of getting a red card =', round(prob_red_card, 3))  \n",
    "\n",
    "# to print the probability in percentage  \n",
    "prob_ace_percent = prob_ace * 100  \n",
    "prob_red_percent = prob_red_card * 100  \n",
    "  \n",
    "print('\\nThe probability of getting an ace in percentage =', str(round(prob_ace_percent, 1)) + '%')  \n",
    "print('The probability of getting a red card in percentage =', str(round(prob_red_percent, 1)) + '%') \n"
   ]
  },
  {
   "cell_type": "code",
   "execution_count": 2,
   "metadata": {},
   "outputs": [
    {
     "name": "stdout",
     "output_type": "stream",
     "text": [
      "The product of probability of getting a king and the probability of drawing a queen =  0.00592\n",
      "The probability of getting a king after drawing a queen in the first draw with replacement =  0.00592\n",
      "The probability of getting a king after drawing a queen in the first draw without replacement =  0.00603\n"
     ]
    }
   ],
   "source": [
    "## Probability of Independent and dependent Events  \n",
    "\n",
    "\n",
    "# Sample Space  \n",
    "total_cards = 52  \n",
    "cards_drawn = 1   \n",
    "# remaining cards when the card drawn in the first place is not replaced  \n",
    "rem_cards = total_cards - cards_drawn   \n",
    "\n",
    "\t# Calculate the joint probability of drawing a king after drawing a queen in the first draw with replacement  \n",
    "num_queens = 4  \n",
    "num_kings = 4  \n",
    "prob_king1 = num_kings / total_cards  \n",
    "prob_queen1 = num_queens / total_cards  \n",
    "  \n",
    "# probability of intersection of events   \n",
    "prob_king_and_queen1 = prob_king1 * prob_queen1  \n",
    "\n",
    "# Determine the joint probability of drawing a king after drawing a queen in the first draw without replacement  \n",
    "\n",
    "prob_king2 = num_kings / rem_cards  \n",
    "prob_queen2 = num_queens / total_cards  \n",
    "  \n",
    "# probability of intersection of events   \n",
    "prob_king_and_queen2 = prob_king2 * prob_queen2  \n",
    "  \n",
    "\n",
    "# Print each probability  \n",
    "print('The product of probability of getting a king and the probability of drawing a queen = ', round(prob_king1 * prob_queen1,5))  \n",
    "print('The probability of getting a king after drawing a queen in the first draw with replacement = ', round(prob_king_and_queen1,5))  \n",
    "print('The probability of getting a king after drawing a queen in the first draw without replacement = ', round(prob_king_and_queen2,5))  \n"
   ]
  },
  {
   "cell_type": "code",
   "execution_count": 3,
   "metadata": {},
   "outputs": [
    {
     "name": "stdout",
     "output_type": "stream",
     "text": [
      "The posterior probability P(A|B) = 30.0%\n"
     ]
    }
   ],
   "source": [
    "# calculating the probability as a degree of belief  \n",
    "# calculating the probability of heart disease when patient is obese   \n",
    "\n",
    "# defining a function to find out P(A|B) given P(A), P(B), P(B|A)  \n",
    "def bayes_rule(p_a, p_b, p_b_over_a):  \n",
    "    # calculate P(A|B)  \n",
    "    p_a_over_b = (p_b_over_a * p_a) / p_b  \n",
    "    return p_a_over_b  \n",
    "  \n",
    "\n",
    "### testing of the funciton that employs Bayes rule to get posterior from prior  \n",
    "p_a = 0.15  \n",
    "p_b_over_a = 0.2  \n",
    "p_b= 0.1  \n",
    "\n",
    "# calculating the posterior P(A|B)  \n",
    "p_a_over_b = bayes_rule(p_a, p_b, p_b_over_a)  \n",
    "# summarize  \n",
    "print('The posterior probability P(A|B) = %.1f%%' % (p_a_over_b * 100)) \n"
   ]
  },
  {
   "cell_type": "code",
   "execution_count": null,
   "metadata": {},
   "outputs": [],
   "source": []
  }
 ],
 "metadata": {
  "kernelspec": {
   "display_name": "Python 3",
   "language": "python",
   "name": "python3"
  },
  "language_info": {
   "codemirror_mode": {
    "name": "ipython",
    "version": 3
   },
   "file_extension": ".py",
   "mimetype": "text/x-python",
   "name": "python",
   "nbconvert_exporter": "python",
   "pygments_lexer": "ipython3",
   "version": "3.7.6"
  }
 },
 "nbformat": 4,
 "nbformat_minor": 4
}
