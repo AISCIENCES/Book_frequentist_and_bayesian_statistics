{
 "cells": [
  {
   "cell_type": "markdown",
   "metadata": {},
   "source": [
    "# Chapter 1"
   ]
  },
  {
   "cell_type": "code",
   "execution_count": null,
   "metadata": {},
   "outputs": [],
   "source": [
    "cmplx_no = 2 + 8j "
   ]
  },
  {
   "cell_type": "code",
   "execution_count": 2,
   "metadata": {},
   "outputs": [
    {
     "data": {
      "text/plain": [
       "bool"
      ]
     },
     "execution_count": 2,
     "metadata": {},
     "output_type": "execute_result"
    }
   ],
   "source": [
    "x = True  \n",
    "type(x) # it returns the type of x as bool. \n"
   ]
  },
  {
   "cell_type": "code",
   "execution_count": 3,
   "metadata": {},
   "outputs": [],
   "source": [
    "bool_variable = 8 < 4  "
   ]
  },
  {
   "cell_type": "markdown",
   "metadata": {},
   "source": [
    "## Arithmetic Operators"
   ]
  },
  {
   "cell_type": "code",
   "execution_count": 4,
   "metadata": {},
   "outputs": [
    {
     "data": {
      "text/plain": [
       "7"
      ]
     },
     "execution_count": 4,
     "metadata": {},
     "output_type": "execute_result"
    }
   ],
   "source": [
    "3+10-6   "
   ]
  },
  {
   "cell_type": "code",
   "execution_count": 5,
   "metadata": {},
   "outputs": [
    {
     "data": {
      "text/plain": [
       "-10"
      ]
     },
     "execution_count": 5,
     "metadata": {},
     "output_type": "execute_result"
    }
   ],
   "source": [
    "30-5*8   "
   ]
  },
  {
   "cell_type": "code",
   "execution_count": 6,
   "metadata": {},
   "outputs": [
    {
     "data": {
      "text/plain": [
       "-2.0"
      ]
     },
     "execution_count": 6,
     "metadata": {},
     "output_type": "execute_result"
    }
   ],
   "source": [
    "(30-5*8)/5  "
   ]
  },
  {
   "cell_type": "code",
   "execution_count": 7,
   "metadata": {},
   "outputs": [
    {
     "data": {
      "text/plain": [
       "2.5"
      ]
     },
     "execution_count": 7,
     "metadata": {},
     "output_type": "execute_result"
    }
   ],
   "source": [
    "20 / 8  # division returns a floating-point number"
   ]
  },
  {
   "cell_type": "code",
   "execution_count": 8,
   "metadata": {},
   "outputs": [
    {
     "data": {
      "text/plain": [
       "3"
      ]
     },
     "execution_count": 8,
     "metadata": {},
     "output_type": "execute_result"
    }
   ],
   "source": [
    "20//6"
   ]
  },
  {
   "cell_type": "code",
   "execution_count": 9,
   "metadata": {},
   "outputs": [
    {
     "data": {
      "text/plain": [
       "2"
      ]
     },
     "execution_count": 9,
     "metadata": {},
     "output_type": "execute_result"
    }
   ],
   "source": [
    "20%6"
   ]
  },
  {
   "cell_type": "code",
   "execution_count": 10,
   "metadata": {},
   "outputs": [
    {
     "data": {
      "text/plain": [
       "81"
      ]
     },
     "execution_count": 10,
     "metadata": {},
     "output_type": "execute_result"
    }
   ],
   "source": [
    "3**4"
   ]
  },
  {
   "cell_type": "code",
   "execution_count": 11,
   "metadata": {},
   "outputs": [
    {
     "data": {
      "text/plain": [
       "float"
      ]
     },
     "execution_count": 11,
     "metadata": {},
     "output_type": "execute_result"
    }
   ],
   "source": [
    "type(5 * 4.6) "
   ]
  },
  {
   "cell_type": "code",
   "execution_count": 12,
   "metadata": {},
   "outputs": [
    {
     "data": {
      "text/plain": [
       "(2+7j)"
      ]
     },
     "execution_count": 12,
     "metadata": {},
     "output_type": "execute_result"
    }
   ],
   "source": [
    "2+7j"
   ]
  },
  {
   "cell_type": "markdown",
   "metadata": {},
   "source": [
    "## Bitwise Operators"
   ]
  },
  {
   "cell_type": "code",
   "execution_count": 13,
   "metadata": {},
   "outputs": [
    {
     "data": {
      "text/plain": [
       "-4"
      ]
     },
     "execution_count": 13,
     "metadata": {},
     "output_type": "execute_result"
    }
   ],
   "source": [
    "~4+1"
   ]
  },
  {
   "cell_type": "code",
   "execution_count": 19,
   "metadata": {},
   "outputs": [
    {
     "data": {
      "text/plain": [
       "1"
      ]
     },
     "execution_count": 19,
     "metadata": {},
     "output_type": "execute_result"
    }
   ],
   "source": [
    "x=3\n",
    "y=9 \n",
    "x&y"
   ]
  },
  {
   "cell_type": "code",
   "execution_count": 20,
   "metadata": {},
   "outputs": [
    {
     "data": {
      "text/plain": [
       "11"
      ]
     },
     "execution_count": 20,
     "metadata": {},
     "output_type": "execute_result"
    }
   ],
   "source": [
    "x|y"
   ]
  },
  {
   "cell_type": "code",
   "execution_count": 21,
   "metadata": {},
   "outputs": [
    {
     "data": {
      "text/plain": [
       "-4"
      ]
     },
     "execution_count": 21,
     "metadata": {},
     "output_type": "execute_result"
    }
   ],
   "source": [
    "~x"
   ]
  },
  {
   "cell_type": "code",
   "execution_count": 22,
   "metadata": {},
   "outputs": [
    {
     "data": {
      "text/plain": [
       "10"
      ]
     },
     "execution_count": 22,
     "metadata": {},
     "output_type": "execute_result"
    }
   ],
   "source": [
    "x^y"
   ]
  },
  {
   "cell_type": "code",
   "execution_count": 23,
   "metadata": {},
   "outputs": [
    {
     "data": {
      "text/plain": [
       "2"
      ]
     },
     "execution_count": 23,
     "metadata": {},
     "output_type": "execute_result"
    }
   ],
   "source": [
    "y>>2"
   ]
  },
  {
   "cell_type": "code",
   "execution_count": 24,
   "metadata": {},
   "outputs": [
    {
     "data": {
      "text/plain": [
       "12"
      ]
     },
     "execution_count": 24,
     "metadata": {},
     "output_type": "execute_result"
    }
   ],
   "source": [
    "x<<2"
   ]
  },
  {
   "cell_type": "markdown",
   "metadata": {},
   "source": [
    "## Assignment Operators"
   ]
  },
  {
   "cell_type": "code",
   "execution_count": 25,
   "metadata": {},
   "outputs": [
    {
     "data": {
      "text/plain": [
       "160"
      ]
     },
     "execution_count": 25,
     "metadata": {},
     "output_type": "execute_result"
    }
   ],
   "source": [
    "marks1 = 75  \n",
    "marks2 = 85  \n",
    "marks1 + marks2\n"
   ]
  },
  {
   "cell_type": "code",
   "execution_count": 26,
   "metadata": {},
   "outputs": [
    {
     "ename": "NameError",
     "evalue": "name 'Marks1' is not defined",
     "output_type": "error",
     "traceback": [
      "\u001b[1;31m---------------------------------------------------------------------------\u001b[0m",
      "\u001b[1;31mNameError\u001b[0m                                 Traceback (most recent call last)",
      "\u001b[1;32m<ipython-input-26-1028911ac340>\u001b[0m in \u001b[0;36m<module>\u001b[1;34m\u001b[0m\n\u001b[1;32m----> 1\u001b[1;33m \u001b[0mMarks1\u001b[0m\u001b[1;33m\u001b[0m\u001b[1;33m\u001b[0m\u001b[0m\n\u001b[0m",
      "\u001b[1;31mNameError\u001b[0m: name 'Marks1' is not defined"
     ]
    }
   ],
   "source": [
    "Marks1"
   ]
  },
  {
   "cell_type": "code",
   "execution_count": 27,
   "metadata": {},
   "outputs": [
    {
     "data": {
      "text/plain": [
       "30"
      ]
     },
     "execution_count": 27,
     "metadata": {},
     "output_type": "execute_result"
    }
   ],
   "source": [
    "my_var = 10  \n",
    "my_var+=20  \n",
    "my_var \n"
   ]
  },
  {
   "cell_type": "code",
   "execution_count": 28,
   "metadata": {},
   "outputs": [
    {
     "data": {
      "text/plain": [
       "10000"
      ]
     },
     "execution_count": 28,
     "metadata": {},
     "output_type": "execute_result"
    }
   ],
   "source": [
    "my_var1 = 10  \n",
    "my_var2 = 4  \n",
    "my_var1**=  my_var2  \n",
    "my_var1 \n"
   ]
  },
  {
   "cell_type": "markdown",
   "metadata": {},
   "source": [
    "## Logical Operators"
   ]
  },
  {
   "cell_type": "code",
   "execution_count": 29,
   "metadata": {},
   "outputs": [
    {
     "data": {
      "text/plain": [
       "False"
      ]
     },
     "execution_count": 29,
     "metadata": {},
     "output_type": "execute_result"
    }
   ],
   "source": [
    "x=True  \n",
    "y=False  \n",
    "x and y \n",
    "\n"
   ]
  },
  {
   "cell_type": "code",
   "execution_count": 30,
   "metadata": {},
   "outputs": [
    {
     "data": {
      "text/plain": [
       "True"
      ]
     },
     "execution_count": 30,
     "metadata": {},
     "output_type": "execute_result"
    }
   ],
   "source": [
    "x=True  \n",
    "y=False  \n",
    "x or y  \n"
   ]
  },
  {
   "cell_type": "code",
   "execution_count": 31,
   "metadata": {},
   "outputs": [
    {
     "data": {
      "text/plain": [
       "False"
      ]
     },
     "execution_count": 31,
     "metadata": {},
     "output_type": "execute_result"
    }
   ],
   "source": [
    "x=True  \n",
    "not x \n"
   ]
  },
  {
   "cell_type": "markdown",
   "metadata": {},
   "source": [
    "## Comparison Operators"
   ]
  },
  {
   "cell_type": "code",
   "execution_count": 32,
   "metadata": {},
   "outputs": [],
   "source": [
    "x, y = 6, -8"
   ]
  },
  {
   "cell_type": "code",
   "execution_count": 33,
   "metadata": {},
   "outputs": [
    {
     "data": {
      "text/plain": [
       "False"
      ]
     },
     "execution_count": 33,
     "metadata": {},
     "output_type": "execute_result"
    }
   ],
   "source": [
    "x==y"
   ]
  },
  {
   "cell_type": "code",
   "execution_count": 34,
   "metadata": {},
   "outputs": [
    {
     "data": {
      "text/plain": [
       "True"
      ]
     },
     "execution_count": 34,
     "metadata": {},
     "output_type": "execute_result"
    }
   ],
   "source": [
    "x!=y"
   ]
  },
  {
   "cell_type": "code",
   "execution_count": 35,
   "metadata": {},
   "outputs": [
    {
     "data": {
      "text/plain": [
       "True"
      ]
     },
     "execution_count": 35,
     "metadata": {},
     "output_type": "execute_result"
    }
   ],
   "source": [
    "x>y"
   ]
  },
  {
   "cell_type": "code",
   "execution_count": 36,
   "metadata": {},
   "outputs": [
    {
     "data": {
      "text/plain": [
       "False"
      ]
     },
     "execution_count": 36,
     "metadata": {},
     "output_type": "execute_result"
    }
   ],
   "source": [
    "x<y"
   ]
  },
  {
   "cell_type": "code",
   "execution_count": 37,
   "metadata": {},
   "outputs": [
    {
     "data": {
      "text/plain": [
       "True"
      ]
     },
     "execution_count": 37,
     "metadata": {},
     "output_type": "execute_result"
    }
   ],
   "source": [
    "x>=y"
   ]
  },
  {
   "cell_type": "code",
   "execution_count": 38,
   "metadata": {},
   "outputs": [
    {
     "data": {
      "text/plain": [
       "False"
      ]
     },
     "execution_count": 38,
     "metadata": {},
     "output_type": "execute_result"
    }
   ],
   "source": [
    "x<=y"
   ]
  },
  {
   "cell_type": "markdown",
   "metadata": {},
   "source": [
    "## Membership Operators"
   ]
  },
  {
   "cell_type": "code",
   "execution_count": 39,
   "metadata": {},
   "outputs": [
    {
     "name": "stdout",
     "output_type": "stream",
     "text": [
      "True\n",
      "False\n"
     ]
    }
   ],
   "source": [
    "x = 'Hello world' # x is a string of characters  \n",
    "print('H' in x)   # returns True if ‘H’ is in x  \n",
    "print('Hello' not in x) # returns True if ‘Hello’ is not present in x  \n"
   ]
  },
  {
   "cell_type": "markdown",
   "metadata": {},
   "source": [
    "## String Operations"
   ]
  },
  {
   "cell_type": "code",
   "execution_count": 40,
   "metadata": {},
   "outputs": [
    {
     "data": {
      "text/plain": [
       "'An example string in single quotes.'"
      ]
     },
     "execution_count": 40,
     "metadata": {},
     "output_type": "execute_result"
    }
   ],
   "source": [
    "'An example string in single quotes.'"
   ]
  },
  {
   "cell_type": "code",
   "execution_count": 41,
   "metadata": {},
   "outputs": [
    {
     "data": {
      "text/plain": [
       "'A string in double quotes.'"
      ]
     },
     "execution_count": 41,
     "metadata": {},
     "output_type": "execute_result"
    }
   ],
   "source": [
    "\"A string in double quotes.\""
   ]
  },
  {
   "cell_type": "code",
   "execution_count": 42,
   "metadata": {},
   "outputs": [
    {
     "name": "stdout",
     "output_type": "stream",
     "text": [
      "Mango and apple are fruits\n"
     ]
    }
   ],
   "source": [
    "print( 'Mango', 'and apple', 'are fruits') "
   ]
  },
  {
   "cell_type": "code",
   "execution_count": 43,
   "metadata": {},
   "outputs": [
    {
     "ename": "SyntaxError",
     "evalue": "invalid syntax (<ipython-input-43-a35ad9ddfc3f>, line 1)",
     "output_type": "error",
     "traceback": [
      "\u001b[1;36m  File \u001b[1;32m\"<ipython-input-43-a35ad9ddfc3f>\"\u001b[1;36m, line \u001b[1;32m1\u001b[0m\n\u001b[1;33m    print('Why don't we visit the museum?')\u001b[0m\n\u001b[1;37m                   ^\u001b[0m\n\u001b[1;31mSyntaxError\u001b[0m\u001b[1;31m:\u001b[0m invalid syntax\n"
     ]
    }
   ],
   "source": [
    "print('Why don't we visit the museum?') "
   ]
  },
  {
   "cell_type": "code",
   "execution_count": 44,
   "metadata": {},
   "outputs": [
    {
     "name": "stdout",
     "output_type": "stream",
     "text": [
      "Why don't we visit the museum?.\n"
     ]
    }
   ],
   "source": [
    "print('Why don\\'t we visit the museum?.')"
   ]
  },
  {
   "cell_type": "code",
   "execution_count": 45,
   "metadata": {},
   "outputs": [
    {
     "name": "stdout",
     "output_type": "stream",
     "text": [
      "Why don't we visit \t the museum?\n"
     ]
    }
   ],
   "source": [
    "print('Why don\\'t we visit \\t the museum?') "
   ]
  },
  {
   "cell_type": "code",
   "execution_count": 46,
   "metadata": {},
   "outputs": [
    {
     "name": "stdout",
     "output_type": "stream",
     "text": [
      " Why don't we visit \n",
      " the museum?\n"
     ]
    }
   ],
   "source": [
    "print(' Why don\\'t we visit \\n the museum?') "
   ]
  },
  {
   "cell_type": "code",
   "execution_count": 47,
   "metadata": {},
   "outputs": [
    {
     "name": "stdout",
     "output_type": "stream",
     "text": [
      "c:\\new_directory\n"
     ]
    }
   ],
   "source": [
    "print(r'c:\\new_directory') "
   ]
  },
  {
   "cell_type": "code",
   "execution_count": 50,
   "metadata": {},
   "outputs": [
    {
     "data": {
      "text/plain": [
       "'Statistics using Python'"
      ]
     },
     "execution_count": 50,
     "metadata": {},
     "output_type": "execute_result"
    }
   ],
   "source": [
    "mystr1 = 'Statistics'  \n",
    "mystr2 = ' using'  \n",
    "mystr3 = ' Python'  \n",
    "mystr1 + mystr2+ mystr3 \n"
   ]
  },
  {
   "cell_type": "code",
   "execution_count": 51,
   "metadata": {},
   "outputs": [
    {
     "name": "stdout",
     "output_type": "stream",
     "text": [
      "T\n"
     ]
    }
   ],
   "source": [
    "x = \"This is a test string\"  \n",
    "print(x[0]) \n"
   ]
  },
  {
   "cell_type": "code",
   "execution_count": 52,
   "metadata": {},
   "outputs": [
    {
     "name": "stdout",
     "output_type": "stream",
     "text": [
      "g\n"
     ]
    }
   ],
   "source": [
    "print(x[-1]) "
   ]
  },
  {
   "cell_type": "code",
   "execution_count": 53,
   "metadata": {},
   "outputs": [
    {
     "name": "stdout",
     "output_type": "stream",
     "text": [
      "This is\n"
     ]
    }
   ],
   "source": [
    "print(x[0:7]) "
   ]
  },
  {
   "cell_type": "code",
   "execution_count": 55,
   "metadata": {},
   "outputs": [
    {
     "name": "stdout",
     "output_type": "stream",
     "text": [
      "a test string\n"
     ]
    }
   ],
   "source": [
    "print(x[8:len(x)]) "
   ]
  },
  {
   "cell_type": "code",
   "execution_count": 56,
   "metadata": {},
   "outputs": [
    {
     "data": {
      "text/plain": [
       "'hsi  e'"
      ]
     },
     "execution_count": 56,
     "metadata": {},
     "output_type": "execute_result"
    }
   ],
   "source": [
    "x = 'This is a test string'  \n",
    "x[1:12:2] \n"
   ]
  },
  {
   "cell_type": "code",
   "execution_count": 57,
   "metadata": {},
   "outputs": [
    {
     "data": {
      "text/plain": [
       "'git stas i'"
      ]
     },
     "execution_count": 57,
     "metadata": {},
     "output_type": "execute_result"
    }
   ],
   "source": [
    "x = 'This is a test string'  \n",
    "x[:0:-2] \n"
   ]
  },
  {
   "cell_type": "code",
   "execution_count": 58,
   "metadata": {},
   "outputs": [
    {
     "data": {
      "text/plain": [
       "'git stas iT'"
      ]
     },
     "execution_count": 58,
     "metadata": {},
     "output_type": "execute_result"
    }
   ],
   "source": [
    "x = 'This is a test string'  \n",
    "x[::-2] \n"
   ]
  },
  {
   "cell_type": "code",
   "execution_count": 59,
   "metadata": {},
   "outputs": [
    {
     "data": {
      "text/plain": [
       "'Hello  Hello  Hello  Hello  Hello  '"
      ]
     },
     "execution_count": 59,
     "metadata": {},
     "output_type": "execute_result"
    }
   ],
   "source": [
    "str = 'Hello  ' * 5  \n",
    "str \n"
   ]
  },
  {
   "cell_type": "code",
   "execution_count": 60,
   "metadata": {},
   "outputs": [
    {
     "name": "stdout",
     "output_type": "stream",
     "text": [
      "This is a text string\n"
     ]
    }
   ],
   "source": [
    "str1 = \"    This is a text string    \"  \n",
    "print(str1.strip())\n"
   ]
  },
  {
   "cell_type": "code",
   "execution_count": 61,
   "metadata": {},
   "outputs": [
    {
     "name": "stdout",
     "output_type": "stream",
     "text": [
      "this is a text string\n"
     ]
    }
   ],
   "source": [
    "str2 = \"This is a text string\"  \n",
    "print(str2.lower()) \n"
   ]
  },
  {
   "cell_type": "code",
   "execution_count": 62,
   "metadata": {},
   "outputs": [
    {
     "name": "stdout",
     "output_type": "stream",
     "text": [
      "THIS IS A TEXT STRING\n"
     ]
    }
   ],
   "source": [
    "str3 = \"This is a text string\"  \n",
    "print(str3.upper()) \n"
   ]
  },
  {
   "cell_type": "code",
   "execution_count": 63,
   "metadata": {},
   "outputs": [
    {
     "name": "stdout",
     "output_type": "stream",
     "text": [
      "I ate a mango\n"
     ]
    }
   ],
   "source": [
    "str4 = \"I ate a banana\"  \n",
    "print(str4.replace(\"banana\", \"mango\")) \n"
   ]
  },
  {
   "cell_type": "code",
   "execution_count": 64,
   "metadata": {},
   "outputs": [
    {
     "name": "stdout",
     "output_type": "stream",
     "text": [
      "['Hi mate', ' how do you do?']\n"
     ]
    }
   ],
   "source": [
    "str5 = 'Hi mate, how do you do?'  \n",
    "print(str5.split(\",\"))\n"
   ]
  },
  {
   "cell_type": "markdown",
   "metadata": {},
   "source": [
    "## 1.4\tConditional Statements and Iterations"
   ]
  },
  {
   "cell_type": "code",
   "execution_count": 65,
   "metadata": {},
   "outputs": [],
   "source": [
    "student_marks = 90  \n",
    "if(student_marks > 100):  \n",
    "    print(\"Marks exceed 100.\") "
   ]
  },
  {
   "cell_type": "code",
   "execution_count": 66,
   "metadata": {},
   "outputs": [
    {
     "name": "stdout",
     "output_type": "stream",
     "text": [
      "Enter marks obtained by a student\n",
      "110\n",
      "Marks exceed 100.\n"
     ]
    }
   ],
   "source": [
    "print('Enter marks obtained by a student')  \n",
    "student_marks = int(input())  \n",
    "if(student_marks > 100):  \n",
    "    print(\"Marks exceed 100.\")  "
   ]
  },
  {
   "cell_type": "code",
   "execution_count": 67,
   "metadata": {},
   "outputs": [
    {
     "name": "stdout",
     "output_type": "stream",
     "text": [
      "Input marks of a student\n",
      "85\n",
      "Outstanding\n"
     ]
    }
   ],
   "source": [
    "print('Input marks of a student')  \n",
    "student_marks = int(input())  \n",
    "if(student_marks >= 80):  \n",
    "    print(\"Outstanding\")  \n",
    "else:  \n",
    "    print(\"Not outstanding \")  "
   ]
  },
  {
   "cell_type": "code",
   "execution_count": 82,
   "metadata": {},
   "outputs": [
    {
     "name": "stdout",
     "output_type": "stream",
     "text": [
      "Enter marks of a student\n",
      "110\n",
      "Invalid marks.\n"
     ]
    }
   ],
   "source": [
    "print('Enter marks of a student')  \n",
    "student_marks = int(input())  \n",
    "if(student_marks > 100 or student_marks < 0):  \n",
    "    print(\"Invalid marks.\")  \n",
    "elif(student_marks >= 80):  \n",
    "    print(\"Outstanding\")  \n",
    "else:  \n",
    "    print(\"Not outstanding\") "
   ]
  },
  {
   "cell_type": "code",
   "execution_count": 83,
   "metadata": {},
   "outputs": [
    {
     "name": "stdout",
     "output_type": "stream",
     "text": [
      "Probability\n",
      "Statistics\n",
      "Machine Learning\n",
      "Data Science\n",
      "Artificial Intelligence\n"
     ]
    }
   ],
   "source": [
    "subjects = [\"Probability\", \"Statistics\", \"Machine Learning\", \"Data Science\", \"Artificial Intelligence\"]  \n",
    "for k in subjects:  \n",
    "    print(k) \n"
   ]
  },
  {
   "cell_type": "code",
   "execution_count": 84,
   "metadata": {},
   "outputs": [
    {
     "name": "stdout",
     "output_type": "stream",
     "text": [
      "0\n",
      "1\n",
      "2\n",
      "3\n",
      "4\n"
     ]
    }
   ],
   "source": [
    "for k in range(5):  \n",
    "    print(k)  \n"
   ]
  },
  {
   "cell_type": "code",
   "execution_count": 85,
   "metadata": {},
   "outputs": [
    {
     "name": "stdout",
     "output_type": "stream",
     "text": [
      "3\n",
      "6\n",
      "9\n"
     ]
    }
   ],
   "source": [
    "for x in range(3, 12, 3):  \n",
    "    print(x) \n"
   ]
  },
  {
   "cell_type": "code",
   "execution_count": 86,
   "metadata": {},
   "outputs": [
    {
     "name": "stdout",
     "output_type": "stream",
     "text": [
      "Adam\n",
      "Alice\n",
      "Emma\n"
     ]
    }
   ],
   "source": [
    "students = [\"Adam\", \"Alice\", \"Bob\", \"Emma\",\"Julia\"]  \n",
    "  \n",
    "for k in students:  \n",
    "    if k == \"Bob\":  \n",
    "        continue  \n",
    "    print(k)  \n",
    "    if k == \"Emma\":  \n",
    "        break \n"
   ]
  },
  {
   "cell_type": "code",
   "execution_count": 91,
   "metadata": {},
   "outputs": [
    {
     "name": "stdout",
     "output_type": "stream",
     "text": [
      "Input an integer = 10\n",
      "First 10 natural numbers add up to  55\n"
     ]
    }
   ],
   "source": [
    "# This program finds sum of first n natural numbers, where the value of n is input by the user.   \n",
    "  \n",
    "n = int(input(\"Input an integer = \"))  \n",
    "  \n",
    "# initialize variables sum and j (counter)  \n",
    "sum = 0  \n",
    "j = 1  \n",
    "while j <= n:  \n",
    "    sum = sum + j  \n",
    "    j = j+1    # update the counter variable  \n",
    "print(\"First\", n, \"natural numbers add up to \", sum) \n"
   ]
  },
  {
   "cell_type": "code",
   "execution_count": 92,
   "metadata": {},
   "outputs": [
    {
     "name": "stdout",
     "output_type": "stream",
     "text": [
      "heavy chair\n",
      "heavy table\n",
      "heavy computer\n",
      "wooden chair\n",
      "wooden table\n",
      "wooden computer\n",
      "fast chair\n",
      "fast table\n",
      "fast computer\n"
     ]
    }
   ],
   "source": [
    "attributes = [\"heavy\", \"wooden\", \"fast\"]  \n",
    "objects = [\"chair\", \"table\", \"computer\"]  \n",
    "for j in attributes:  \n",
    "      for k in objects:  \n",
    "            print(j, k)  \n"
   ]
  },
  {
   "cell_type": "markdown",
   "metadata": {},
   "source": [
    "## Functions in Python"
   ]
  },
  {
   "cell_type": "code",
   "execution_count": null,
   "metadata": {},
   "outputs": [],
   "source": [
    "def my_function1():  \n",
    "    print(\"This is a test function\") \n"
   ]
  },
  {
   "cell_type": "code",
   "execution_count": 94,
   "metadata": {},
   "outputs": [
    {
     "name": "stdout",
     "output_type": "stream",
     "text": [
      "This is a test function\n"
     ]
    }
   ],
   "source": [
    "my_function1()"
   ]
  },
  {
   "cell_type": "code",
   "execution_count": 95,
   "metadata": {},
   "outputs": [
    {
     "name": "stdout",
     "output_type": "stream",
     "text": [
      "This function prints its input that is computer\n",
      "This function prints its input that is table\n",
      "This function prints its input that is chair\n"
     ]
    }
   ],
   "source": [
    "def my_function2(str_in):  \n",
    "    print(\"This function prints its input that is \" + str_in)  \n",
    "\n",
    "my_function2(\"computer\")  \n",
    "my_function2(\"table\")  \n",
    "my_function2(\"chair\")  \n"
   ]
  },
  {
   "cell_type": "code",
   "execution_count": 96,
   "metadata": {},
   "outputs": [
    {
     "name": "stdout",
     "output_type": "stream",
     "text": [
      "Orange is my favorite fruit.\n"
     ]
    }
   ],
   "source": [
    "def my_function3(*myfruits):  \n",
    "    print(myfruits[2], \"is my favorite fruit.\")  \n",
    "my_function3(\"Mango\", \"Apple\", \"Orange\") # 3 inputs.\n"
   ]
  },
  {
   "cell_type": "code",
   "execution_count": 97,
   "metadata": {},
   "outputs": [
    {
     "name": "stdout",
     "output_type": "stream",
     "text": [
      "Apricot is my favorite fruit.\n"
     ]
    }
   ],
   "source": [
    "my_function3(\"Mango\", \"Orange\",\"Apricot\",\"Apple\" ) # 4 inputs."
   ]
  },
  {
   "cell_type": "code",
   "execution_count": 98,
   "metadata": {},
   "outputs": [
    {
     "name": "stdout",
     "output_type": "stream",
     "text": [
      "20\n",
      "-80\n",
      "1000\n"
     ]
    }
   ],
   "source": [
    "def mult_by_10(k):  \n",
    "    return 10 * k  \n",
    "print(mult_by_10(2))  \n",
    "print(mult_by_10(-8))  \n",
    "print(mult_by_10(100)) \n"
   ]
  },
  {
   "cell_type": "code",
   "execution_count": 99,
   "metadata": {},
   "outputs": [
    {
     "name": "stdout",
     "output_type": "stream",
     "text": [
      "0\n",
      "-20\n",
      "10\n"
     ]
    }
   ],
   "source": [
    "x = lambda input_number : input_number - 10  \n",
    "print(x(10))  \n",
    "print(x(-10))  \n",
    "print(x(20)) \n"
   ]
  },
  {
   "cell_type": "markdown",
   "metadata": {},
   "source": [
    "## Data Structures"
   ]
  },
  {
   "cell_type": "code",
   "execution_count": 100,
   "metadata": {},
   "outputs": [
    {
     "name": "stdout",
     "output_type": "stream",
     "text": [
      "['backpack', 'laptop', 'ball point', 'sun glasses']\n"
     ]
    }
   ],
   "source": [
    "item_list = [\"backpack\", \"laptop\", \"ball point\", \"sun glasses\"]  \n",
    "print(item_list)  \n"
   ]
  },
  {
   "cell_type": "code",
   "execution_count": 101,
   "metadata": {},
   "outputs": [
    {
     "name": "stdout",
     "output_type": "stream",
     "text": [
      "ball point\n"
     ]
    }
   ],
   "source": [
    "print(item_list[2])  "
   ]
  },
  {
   "cell_type": "code",
   "execution_count": 102,
   "metadata": {},
   "outputs": [
    {
     "name": "stdout",
     "output_type": "stream",
     "text": [
      "laptop\n"
     ]
    }
   ],
   "source": [
    "item_list = [\"backpack\", \"laptop\", \"ball point\", \"sun glasses\"]  \n",
    "print(item_list[-3])  \n"
   ]
  },
  {
   "cell_type": "code",
   "execution_count": 103,
   "metadata": {},
   "outputs": [
    {
     "name": "stdout",
     "output_type": "stream",
     "text": [
      "['laptop', 'ball point']\n"
     ]
    }
   ],
   "source": [
    "print(item_list[1:3])    # Elements at index 1 and 2 but not the one at 3. "
   ]
  },
  {
   "cell_type": "code",
   "execution_count": 104,
   "metadata": {},
   "outputs": [
    {
     "name": "stdout",
     "output_type": "stream",
     "text": [
      "['backpack', 'laptop', 'ball point']\n",
      "['ball point', 'sun glasses']\n",
      "['laptop', 'ball point']\n"
     ]
    }
   ],
   "source": [
    "print(item_list[:3])     # returns list elements from the start to \"ball point\"  \n",
    "\n",
    "print(item_list[2:])     # returns elements from \"ball point\" to the last element  \n",
    "\n",
    "print(item_list[-3:-1])  # returns elements from index -3 to -1  \n"
   ]
  },
  {
   "cell_type": "code",
   "execution_count": 105,
   "metadata": {},
   "outputs": [
    {
     "name": "stdout",
     "output_type": "stream",
     "text": [
      "['backpack', 'computer', 'ball point', 'sun glasses']\n"
     ]
    }
   ],
   "source": [
    "item_list[1] = \"computer\"  \n",
    "print(item_list)  \n"
   ]
  },
  {
   "cell_type": "code",
   "execution_count": 106,
   "metadata": {},
   "outputs": [
    {
     "name": "stdout",
     "output_type": "stream",
     "text": [
      "sun glasses is present in the list\n"
     ]
    }
   ],
   "source": [
    "if \"sun glasses\" in item_list:  \n",
    "    print(\"sun glasses is present in the list\")  \n",
    "else:  \n",
    "    print(\"sun glasses is not present in the list\") \n"
   ]
  },
  {
   "cell_type": "code",
   "execution_count": 107,
   "metadata": {},
   "outputs": [
    {
     "name": "stdout",
     "output_type": "stream",
     "text": [
      "('Python', 'for', 'statistics')\n"
     ]
    }
   ],
   "source": [
    "py_stat = (\"Python\", \"for\", \"statistics\")  \n",
    "print(py_stat) \n"
   ]
  },
  {
   "cell_type": "code",
   "execution_count": 108,
   "metadata": {},
   "outputs": [
    {
     "name": "stdout",
     "output_type": "stream",
     "text": [
      "statistics\n"
     ]
    }
   ],
   "source": [
    "print(py_stat[2])"
   ]
  },
  {
   "cell_type": "code",
   "execution_count": 109,
   "metadata": {},
   "outputs": [
    {
     "name": "stdout",
     "output_type": "stream",
     "text": [
      "0\n",
      "1\n"
     ]
    }
   ],
   "source": [
    "py_stat2 = ('Python', 'has support for', 'statistics')  \n",
    "print(py_stat2.count('stat'))  \n",
    "print(py_stat2.count('statistics')) \n"
   ]
  },
  {
   "cell_type": "code",
   "execution_count": 110,
   "metadata": {},
   "outputs": [
    {
     "name": "stdout",
     "output_type": "stream",
     "text": [
      "0\n"
     ]
    },
    {
     "ename": "ValueError",
     "evalue": "tuple.index(x): x not in tuple",
     "output_type": "error",
     "traceback": [
      "\u001b[1;31m---------------------------------------------------------------------------\u001b[0m",
      "\u001b[1;31mValueError\u001b[0m                                Traceback (most recent call last)",
      "\u001b[1;32m<ipython-input-110-5c14511b2aad>\u001b[0m in \u001b[0;36m<module>\u001b[1;34m\u001b[0m\n\u001b[0;32m      1\u001b[0m \u001b[0mprint\u001b[0m\u001b[1;33m(\u001b[0m\u001b[0mpy_stat2\u001b[0m\u001b[1;33m.\u001b[0m\u001b[0mindex\u001b[0m\u001b[1;33m(\u001b[0m\u001b[1;34m'Python'\u001b[0m\u001b[1;33m)\u001b[0m\u001b[1;33m)\u001b[0m\u001b[1;33m\u001b[0m\u001b[1;33m\u001b[0m\u001b[0m\n\u001b[1;32m----> 2\u001b[1;33m \u001b[0mprint\u001b[0m\u001b[1;33m(\u001b[0m\u001b[0mpy_stat2\u001b[0m\u001b[1;33m.\u001b[0m\u001b[0mindex\u001b[0m\u001b[1;33m(\u001b[0m\u001b[1;34m'probability'\u001b[0m\u001b[1;33m)\u001b[0m\u001b[1;33m)\u001b[0m\u001b[1;33m\u001b[0m\u001b[1;33m\u001b[0m\u001b[0m\n\u001b[0m",
      "\u001b[1;31mValueError\u001b[0m: tuple.index(x): x not in tuple"
     ]
    }
   ],
   "source": [
    "print(py_stat2.index('Python'))  \n",
    "print(py_stat2.index('probability')) \n"
   ]
  },
  {
   "cell_type": "code",
   "execution_count": 111,
   "metadata": {},
   "outputs": [
    {
     "name": "stdout",
     "output_type": "stream",
     "text": [
      "{'dog', 'fox', 'tiger', 'cat'}\n"
     ]
    }
   ],
   "source": [
    "my_animals = {\"cat\", \"dog\", \"tiger\", \"fox\"}  \n",
    "print(my_animals) \n"
   ]
  },
  {
   "cell_type": "code",
   "execution_count": 112,
   "metadata": {},
   "outputs": [
    {
     "name": "stdout",
     "output_type": "stream",
     "text": [
      "dog\n",
      "fox\n",
      "tiger\n",
      "cat\n"
     ]
    }
   ],
   "source": [
    "my_animals = {\"cat\", \"dog\", \"tiger\", \"fox\"}  \n",
    "for x in my_animals:  \n",
    "    print(x) \n"
   ]
  },
  {
   "cell_type": "code",
   "execution_count": 113,
   "metadata": {},
   "outputs": [
    {
     "name": "stdout",
     "output_type": "stream",
     "text": [
      "True\n",
      "False\n"
     ]
    }
   ],
   "source": [
    "print(\"tiger\" in my_animals)  \n",
    "print(\"lion\" in my_animals) \n"
   ]
  },
  {
   "cell_type": "code",
   "execution_count": 114,
   "metadata": {},
   "outputs": [
    {
     "name": "stdout",
     "output_type": "stream",
     "text": [
      "{'dog', 'lion', 'tiger', 'fox', 'cat'}\n"
     ]
    }
   ],
   "source": [
    "my_animals = {\"cat\", \"dog\", \"tiger\", \"fox\"}  \n",
    "my_animals.add(\"lion\")  \n",
    "print(my_animals) \n"
   ]
  },
  {
   "cell_type": "code",
   "execution_count": 115,
   "metadata": {},
   "outputs": [
    {
     "name": "stdout",
     "output_type": "stream",
     "text": [
      "{'dog', 'tiger', 'fox', 'cat', 'goat', 'sheep'}\n"
     ]
    }
   ],
   "source": [
    "my_animals = {\"cat\", \"dog\", \"tiger\", \"fox\"}  \n",
    "my_animals.update([\"sheep\", \"goat\", \"sheep\"])  \n",
    "print(my_animals)  \n"
   ]
  },
  {
   "cell_type": "code",
   "execution_count": 116,
   "metadata": {},
   "outputs": [
    {
     "name": "stdout",
     "output_type": "stream",
     "text": [
      "{'dog', 'fox', 'cat'}\n"
     ]
    }
   ],
   "source": [
    "my_animals = {\"cat\", \"dog\", \"tiger\", \"fox\"}  \n",
    "my_animals.remove(\"tiger\")  \n",
    "print(my_animals)  \n"
   ]
  },
  {
   "cell_type": "code",
   "execution_count": 117,
   "metadata": {},
   "outputs": [
    {
     "name": "stdout",
     "output_type": "stream",
     "text": [
      "{4, 'Z', 5, 6, 'X', 'Y'}\n"
     ]
    }
   ],
   "source": [
    "myset1 = {\"X\", \"Y\" , \"Z\"}  \n",
    "myset2 = {4, 5, 6}  \n",
    "myset3 = myset1.union(myset2)  \n",
    "print(myset3) \n"
   ]
  },
  {
   "cell_type": "code",
   "execution_count": 118,
   "metadata": {},
   "outputs": [
    {
     "name": "stdout",
     "output_type": "stream",
     "text": [
      "{'name': 'Python', 'purpose': 'Statistics', 'year': 2020}\n"
     ]
    }
   ],
   "source": [
    "py_stat_dict = {  \n",
    "\"name\": \"Python\",  \n",
    "\"purpose\": \"Statistics\",  \n",
    "\"year\": 2020  \n",
    "}  \n",
    "print(py_stat_dict)  \n"
   ]
  },
  {
   "cell_type": "code",
   "execution_count": 119,
   "metadata": {},
   "outputs": [
    {
     "name": "stdout",
     "output_type": "stream",
     "text": [
      "Python\n",
      "Statistics\n"
     ]
    }
   ],
   "source": [
    "print(py_stat_dict['name'])    # accesses value for key 'name'  \n",
    "print(py_stat_dict.get('purpose'))  # accesses value for key 'purpose' \n"
   ]
  },
  {
   "cell_type": "code",
   "execution_count": 120,
   "metadata": {},
   "outputs": [
    {
     "name": "stdout",
     "output_type": "stream",
     "text": [
      "None\n"
     ]
    }
   ],
   "source": [
    "print(py_stat_dict.get('address'))"
   ]
  },
  {
   "cell_type": "code",
   "execution_count": 121,
   "metadata": {},
   "outputs": [
    {
     "data": {
      "text/plain": [
       "{'name': 'Python', 'purpose': 'Statistics', 'year': 2019}"
      ]
     },
     "execution_count": 121,
     "metadata": {},
     "output_type": "execute_result"
    }
   ],
   "source": [
    "py_stat_dict[\"year\"] = 2019  \n",
    "py_stat_dict  \n"
   ]
  },
  {
   "cell_type": "code",
   "execution_count": 122,
   "metadata": {},
   "outputs": [
    {
     "name": "stdout",
     "output_type": "stream",
     "text": [
      "name\n",
      "purpose\n",
      "year\n"
     ]
    }
   ],
   "source": [
    "for k in py_stat_dict:  \n",
    "    print(k) \n"
   ]
  },
  {
   "cell_type": "code",
   "execution_count": 123,
   "metadata": {},
   "outputs": [
    {
     "name": "stdout",
     "output_type": "stream",
     "text": [
      "Python\n",
      "Statistics\n",
      "2019\n"
     ]
    }
   ],
   "source": [
    "for k in py_stat_dict:  \n",
    "    print(py_stat_dict[k])\n"
   ]
  },
  {
   "cell_type": "code",
   "execution_count": 124,
   "metadata": {},
   "outputs": [
    {
     "name": "stdout",
     "output_type": "stream",
     "text": [
      "Python\n",
      "Statistics\n",
      "2019\n"
     ]
    }
   ],
   "source": [
    "for k in py_stat_dict.values():\n",
    "    print(k)\n"
   ]
  },
  {
   "cell_type": "code",
   "execution_count": 125,
   "metadata": {},
   "outputs": [
    {
     "name": "stdout",
     "output_type": "stream",
     "text": [
      "name Python\n",
      "purpose Statistics\n",
      "year 2019\n"
     ]
    }
   ],
   "source": [
    "for x, y in py_stat_dict.items():\n",
    "    print(x, y)\n"
   ]
  },
  {
   "cell_type": "code",
   "execution_count": 126,
   "metadata": {},
   "outputs": [
    {
     "name": "stdout",
     "output_type": "stream",
     "text": [
      "'year' is one of the valid keys\n"
     ]
    }
   ],
   "source": [
    "if \"year\" in py_stat_dict:  \n",
    "    print(\"'year' is one of the valid keys\") \n"
   ]
  },
  {
   "cell_type": "code",
   "execution_count": 127,
   "metadata": {},
   "outputs": [
    {
     "name": "stdout",
     "output_type": "stream",
     "text": [
      "{'name': 'Python', 'purpose': 'Statistics', 'year': 2019, 'pages': 300}\n"
     ]
    }
   ],
   "source": [
    "py_stat_dict[\"pages\"] = 300  \n",
    "print(py_stat_dict)  \n"
   ]
  },
  {
   "cell_type": "code",
   "execution_count": 128,
   "metadata": {},
   "outputs": [
    {
     "name": "stdout",
     "output_type": "stream",
     "text": [
      "{'name': 'Python', 'purpose': 'Statistics', 'pages': 300}\n"
     ]
    }
   ],
   "source": [
    "py_stat_dict.pop(\"year\")  # del py_stat_dict[\"year\"] does the same job.   \n",
    "print(py_stat_dict)\n"
   ]
  },
  {
   "cell_type": "code",
   "execution_count": 129,
   "metadata": {},
   "outputs": [
    {
     "data": {
      "text/plain": [
       "{}"
      ]
     },
     "execution_count": 129,
     "metadata": {},
     "output_type": "execute_result"
    }
   ],
   "source": [
    "py_stat_dict.clear()  \n",
    "py_stat_dict  \n"
   ]
  },
  {
   "cell_type": "code",
   "execution_count": 130,
   "metadata": {},
   "outputs": [
    {
     "name": "stdout",
     "output_type": "stream",
     "text": [
      "3\n"
     ]
    }
   ],
   "source": [
    "py_stat_dict = {  \n",
    "\"name\": \"Python\",  \n",
    "\"purpose\": \"Statistics\",  \n",
    "\"year\": 2020  \n",
    "}  \n",
    "print(len(py_stat_dict)) \n"
   ]
  },
  {
   "cell_type": "code",
   "execution_count": 131,
   "metadata": {},
   "outputs": [
    {
     "name": "stdout",
     "output_type": "stream",
     "text": [
      "{'name': 'Python', 'purpose': 'Statistics', 'year': 2020}\n",
      "{'name': 'Python', 'purpose': 'Statistics', 'year': 2020}\n"
     ]
    }
   ],
   "source": [
    "py_stat_dict2 = py_stat_dict.copy()  \n",
    "print(py_stat_dict)  \n",
    "print(py_stat_dict2) \n"
   ]
  },
  {
   "cell_type": "markdown",
   "metadata": {},
   "source": [
    "## Python Libraries for Statistics"
   ]
  },
  {
   "cell_type": "code",
   "execution_count": 132,
   "metadata": {},
   "outputs": [
    {
     "name": "stdout",
     "output_type": "stream",
     "text": [
      "20\n",
      "[10 20 30 40 50]\n"
     ]
    }
   ],
   "source": [
    "import numpy as np  \n",
    "my_arr0 = np.array(20)\n",
    "my_arr1 = np.array([10, 20, 30, 40, 50])\n",
    "print(my_arr0)\n",
    "print(my_arr1)\n"
   ]
  },
  {
   "cell_type": "code",
   "execution_count": 133,
   "metadata": {},
   "outputs": [
    {
     "name": "stdout",
     "output_type": "stream",
     "text": [
      "[[10 20 30 40]\n",
      " [90 80 70 60]]\n"
     ]
    }
   ],
   "source": [
    "import numpy as np  \n",
    "my_arr2 = np.array([[10, 20, 30, 40], [90, 80, 70, 60]])\n",
    "\n",
    "print(my_arr2)\n"
   ]
  },
  {
   "cell_type": "code",
   "execution_count": 134,
   "metadata": {},
   "outputs": [
    {
     "name": "stdout",
     "output_type": "stream",
     "text": [
      "[[[ 10  20  30]\n",
      "  [ 40  50  60]]\n",
      "\n",
      " [[ 70  80  90]\n",
      "  [100 110 120]]]\n"
     ]
    }
   ],
   "source": [
    "import numpy as np  \n",
    "my_arr3 = np.array([[[10, 20, 30], [40, 50, 60]], [[70, 80, 90], [100, 110, 120]]])\n",
    "\n",
    "print(my_arr3)\n"
   ]
  },
  {
   "cell_type": "code",
   "execution_count": 135,
   "metadata": {},
   "outputs": [
    {
     "name": "stdout",
     "output_type": "stream",
     "text": [
      "Addition of a and b : [5 7 9]\n",
      "Multiplication of a and b : [ 4 10 18]\n",
      "Subtraction of a and b : [-3 -3 -3]\n",
      "division of a and b : [0.25 0.4  0.5 ]\n",
      "a raised to b is: [  1  32 729]\n",
      "mod of a and b : [1 2 3]\n",
      "remainders when a/b : [1 2 3]\n",
      "Rounded array is:  [3.33 4.55 5.25]\n",
      "Floor of the array is:  [3. 4. 5.]\n",
      "Square root of the array is:  [1.82482876 2.1330729  2.29128785]\n"
     ]
    }
   ],
   "source": [
    "import numpy as np  \n",
    "  \n",
    "a = np.array([1,2,3])  \n",
    "b= np.array([4,5,6])  \n",
    "  \n",
    "print(\"Addition of a and b :\",np.add(a,b))  \n",
    "  \n",
    "print(\"Multiplication of a and b :\",np.multiply(a,b))  \n",
    "  \n",
    "print(\"Subtraction of a and b :\",np.subtract(a,b))  \n",
    "  \n",
    "print(\"division of a and b :\",np.divide(a,b))  \n",
    "  \n",
    "print(\"a raised to b is:\",np.power(a,b))  \n",
    "  \n",
    "print(\"mod of a and b :\",np.mod(a,b))  \n",
    "  \n",
    "print(\"remainders when a/b :\",np.remainder(a,b))  \n",
    "  \n",
    "a = np.array([3.33,4.55,5.25])  \n",
    "  \n",
    "rounded_a = np.round_(a,2)  \n",
    "print(\"Rounded array is: \",rounded_a)  \n",
    "  \n",
    "floor_a = np.floor(a)  \n",
    "print(\"Floor of the array is: \",floor_a)  \n",
    "  \n",
    "print(\"Square root of the array is: \",np.sqrt(a))  \n"
   ]
  },
  {
   "cell_type": "code",
   "execution_count": 142,
   "metadata": {},
   "outputs": [
    {
     "data": {
      "text/plain": [
       "0   -2\n",
       "1   -1\n",
       "2    0\n",
       "3    1\n",
       "4    2\n",
       "dtype: int64"
      ]
     },
     "execution_count": 142,
     "metadata": {},
     "output_type": "execute_result"
    }
   ],
   "source": [
    "import pandas as pd\n",
    "myseries = pd.Series([-2, -1, 0, 1, 2]) # note capital S in Series  \n",
    "myseries  \n"
   ]
  },
  {
   "cell_type": "code",
   "execution_count": 140,
   "metadata": {},
   "outputs": [
    {
     "name": "stdout",
     "output_type": "stream",
     "text": [
      "A Pandas series list:\n",
      " 0    1\n",
      "1    2\n",
      "2    3\n",
      "3    4\n",
      "4    5\n",
      "5    6\n",
      "6    7\n",
      "7    8\n",
      "8    9\n",
      "dtype: int64\n",
      "\n",
      "A Pandas series using numpy array:\n",
      " 0    10\n",
      "1    20\n",
      "2    30\n",
      "3    40\n",
      "4    50\n",
      "5    60\n",
      "6    70\n",
      "7    80\n",
      "8    90\n",
      "dtype: int32\n",
      "\n",
      "A Pandas series with indexing in letters:\n",
      " a    10\n",
      "b    20\n",
      "c    30\n",
      "d    40\n",
      "e    50\n",
      "dtype: int32\n"
     ]
    }
   ],
   "source": [
    "import pandas as pd  \n",
    "import numpy as np  \n",
    "  \n",
    "series_list = pd.Series([1,2,3,4,5,6,7,8,9])  \n",
    "series_np = pd.Series(np.array([10,20,30,40,50,60,70,80,90]))  \n",
    "  \n",
    "print(\"A Pandas series list:\\n\",series_list)  \n",
    "print(\"\\nA Pandas series using numpy array:\\n\",series_np)  \n",
    " \n",
    "series_index = pd.Series(  \n",
    "        np.array([10,20,30,40,50]),   \n",
    "        index=['a', 'b', 'c', 'd', 'e']   \n",
    ")  \n",
    "\n",
    "print(\"\\nA Pandas series with indexing in letters:\\n\",series_index)   \n"
   ]
  },
  {
   "cell_type": "code",
   "execution_count": 143,
   "metadata": {},
   "outputs": [
    {
     "name": "stdout",
     "output_type": "stream",
     "text": [
      "Dataframe from a dict of series is:\n",
      "    one  two\n",
      "a  1.2  1.5\n",
      "b  2.3  2.4\n",
      "c  3.4  3.2\n",
      "d  NaN  4.1\n",
      "Dataframe from a dict of series with custom indexes is:\n",
      "    one  two\n",
      "d  NaN  4.1\n",
      "b  2.3  2.4\n",
      "a  1.2  1.5\n"
     ]
    }
   ],
   "source": [
    "d = {'one': pd.Series([1.2, 2.3, 3.4], index=['a', 'b', 'c']),  \n",
    "    'two': pd.Series([1.5, 2.4, 3.2, 4.1], index=['a', 'b', 'c', 'd'])}  \n",
    "  \n",
    "df = pd.DataFrame(d)  \n",
    "print(\"Dataframe from a dict of series is:\\n\" ,df)  \n",
    "  \n",
    "df1 = pd.DataFrame(d, index=['d', 'b', 'a'])  \n",
    "print(\"Dataframe from a dict of series with custom indexes is:\\n\" ,df1)  \n"
   ]
  },
  {
   "cell_type": "code",
   "execution_count": 144,
   "metadata": {},
   "outputs": [
    {
     "name": "stdout",
     "output_type": "stream",
     "text": [
      "\n",
      "The dataframe is:\n",
      "        name  age\n",
      "First     a   10\n",
      "Second    b   20\n",
      "Third     c   30\n",
      "Fourth    c   40\n",
      "Fifth     e   50\n",
      "\n",
      "The name series is:\n",
      " First     a\n",
      "Second    b\n",
      "Third     c\n",
      "Fourth    c\n",
      "Fifth     e\n",
      "Name: name, dtype: object\n",
      "\n",
      "Getting mean value from a series:  30.0\n",
      "\n",
      "Getting size of a series:  5\n",
      "\n",
      "Getting unique values of a series:  ['a' 'b' 'c' 'e']\n",
      "\n",
      "Getting a list of a series:  ['a', 'b', 'c', 'c', 'e']\n"
     ]
    }
   ],
   "source": [
    "my_dict = {   \n",
    "'name' : [\"a\", \"b\", \"c\", \"c\", \"e\"],  \n",
    "'age' : [10,20, 30, 40, 50]  \n",
    "}  \n",
    "  \n",
    "df = pd.DataFrame( my_dict,   \n",
    "index = [  \n",
    "\"First\",  \n",
    "\"Second\",   \n",
    "\"Third\",   \n",
    "\"Fourth\",   \n",
    "\"Fifth\"])  \n",
    "  \n",
    "print(\"\\nThe dataframe is:\\n\",df)  \n",
    "  \n",
    "series_name = df.name  \n",
    "print(\"\\nThe name series is:\\n\",series_name)  \n",
    "  \n",
    "series_age = df.age  \n",
    "#Getting the mean of a Series  \n",
    "print(\"\\nGetting mean value from a series: \",series_age.mean())  \n",
    "  \n",
    "# Getting the size of the Series  \n",
    "print(\"\\nGetting size of a series: \",series_age.size)  \n",
    "\n",
    "# Getting all unique items in a series  \n",
    "print(\"\\nGetting unique values of a series: \",series_name.unique())  \n",
    "\n",
    "# Getting a python list out of a Series  \n",
    "print(\"\\nGetting a list of a series: \",series_name.tolist()) \n"
   ]
  },
  {
   "cell_type": "code",
   "execution_count": 147,
   "metadata": {},
   "outputs": [
    {
     "name": "stdout",
     "output_type": "stream",
     "text": [
      "mean =  4.333333333333333\n",
      "median =  4.0\n",
      "mode =  8\n",
      "pvariance =  7.555555555555555\n",
      "pstdev =  2.748737083745107\n",
      "variance =  8.242424242424242\n",
      "stdev =  2.8709622502610936\n"
     ]
    }
   ],
   "source": [
    "import numpy as np\n",
    "import statistics as st\n",
    "\n",
    "raindata = [2, 5, 4, 4, 0, 2, 7, 8, 8, 8, 1, 3]\n",
    "\n",
    "# Mean\n",
    "print(\"mean = \", st.mean(raindata))\n",
    "\n",
    "# Median\n",
    "print(\"median = \",st.median(raindata))\n",
    "\n",
    "# Mode\n",
    "print(\"mode = \",st.mode(raindata))\n",
    "\n",
    "# population variance\n",
    "print(\"pvariance = \", st.pvariance(raindata))\n",
    "\n",
    "# population standard deviation\n",
    "print(\"pstdev = \", st.pstdev(raindata))\n",
    "\n",
    "# variance\n",
    "print(\"variance = \", st.variance(raindata))\n",
    "\n",
    "# standard deviation \n",
    "print(\"stdev = \", st.stdev(raindata))"
   ]
  },
  {
   "cell_type": "code",
   "execution_count": 148,
   "metadata": {},
   "outputs": [
    {
     "data": {
      "image/png": "[encoded data removed]",
      "text/plain": [
       "<Figure size 432x288 with 1 Axes>"
      ]
     },
     "metadata": {
      "needs_background": "light"
     },
     "output_type": "display_data"
    }
   ],
   "source": [
    "import matplotlib.pyplot as plt\n",
    "import statistics as st\n",
    "\n",
    "month_names = ['Jan', 'Feb', 'Mar', 'Apr', 'May', 'Jun', 'Jul', 'Aug', 'Sep', 'Oct', 'Nov', 'Dec']\n",
    "months = [1, 2, 3, 4, 5, 6, 7, 8, 9, 10, 11, 12]\n",
    "\n",
    "fig, ax = plt.subplots(nrows=1, ncols =1)\n",
    "\n",
    "ax.set_title(\"Measures of Center\") \n",
    "ax.set_xlabel(\"Month\") \n",
    "ax.set_ylabel(\"Number of times it rained\") \n",
    "\n",
    "ax.scatter([1,2,3,4,5,6,7,8,9,10,11,12],raindata) \n",
    "\n",
    "plt.xticks(np.arange(12)+1, month_names, color = 'black')\n",
    "\n",
    "# draw points for mean, median, mode\n",
    "ax.plot([st.mean(raindata)], [st.mean(raindata)], color='r', marker=\"o\", markersize=15)\n",
    "ax.plot([st.median(raindata)], [st.median(raindata)], color='g', marker=\"o\", markersize=15)\n",
    "ax.plot([st.mode(raindata)], [st.mode(raindata)], color='k', marker=\"o\", markersize=15)\n",
    "\n",
    "# Annotation\n",
    "plt.annotate(\"Mean\",  (st.mean(raindata), st.mean(raindata)+0.3),color=\"r\")\n",
    "plt.annotate(\"Median\", (st.median(raindata), st.median(raindata)-0.7),color=\"g\")\n",
    "plt.annotate(\"Mode\", (st.mode(raindata), st.mode(raindata)-0.7),color=\"k\")\n",
    "\n",
    "plt.show()"
   ]
  },
  {
   "cell_type": "code",
   "execution_count": 149,
   "metadata": {},
   "outputs": [
    {
     "name": "stdout",
     "output_type": "stream",
     "text": [
      "\n",
      "Describe\n",
      " DescribeResult(nobs=9, minmax=(2, 8), mean=4.666666666666667, variance=4.5, skewness=0.12962962962962918, kurtosis=-1.1574074074074074)\n",
      "\n",
      "Geometric mean\n",
      " 4.196001296532889\n",
      "\n",
      "harmonic mean\n",
      " 3.722304283604136\n",
      "\n",
      "Mode\n",
      " ModeResult(mode=array([2]), count=array([2]))\n",
      "\n",
      "Skewness\n",
      " 0.12962962962962918\n",
      "\n",
      "Inter Quantile Range\n",
      " 3.0\n",
      "\n",
      "Z Score\n",
      " [ 0.16666667 -1.33333333  0.16666667  0.66666667 -0.83333333 -0.33333333\n",
      " -1.33333333  1.66666667  1.16666667]\n"
     ]
    }
   ],
   "source": [
    "import scipy.stats as stats  \n",
    "import numpy as np  \n",
    "\n",
    "# Statistical functions applied on an array of data  \n",
    "\n",
    "c = np.array([5, 2, 5, 6, 3, 4, 2, 8, 7])  \n",
    "\n",
    "all = stats.describe(c)  \n",
    "gmean = stats.gmean(c)  \n",
    "hmean = stats.hmean(c)  \n",
    "mode = stats.mode(c)  \n",
    "skewness = stats.skew(c)  \n",
    "iqr = stats.iqr(c)  \n",
    "zscore = stats.zscore(c)  \n",
    "  \n",
    "print(\"\\nDescribe\\n\",all)  \n",
    "print(\"\\nGeometric mean\\n\",gmean)  \n",
    "print(\"\\nharmonic mean\\n\",hmean)  \n",
    "print(\"\\nMode\\n\",mode)  \n",
    "print(\"\\nSkewness\\n\",skewness)  \n",
    "print(\"\\nInter Quantile Range\\n\",iqr)  \n",
    "print(\"\\nZ Score\\n\",zscore) \n"
   ]
  },
  {
   "cell_type": "code",
   "execution_count": 150,
   "metadata": {},
   "outputs": [
    {
     "name": "stdout",
     "output_type": "stream",
     "text": [
      "[-1.40895908  1.64444854  0.63631194  0.08087456 -0.09248045]\n",
      "[0.   0.   0.25 0.5  0.75 1.  ]\n"
     ]
    }
   ],
   "source": [
    "import scipy.stats as stats  \n",
    "from scipy.stats import norm  \n",
    "from scipy.stats import uniform  \n",
    "  \n",
    "# Generation of random variables     \n",
    "a = norm.rvs(size = 5)  \n",
    "print (a)  \n",
    "b = uniform.cdf([0, 1, 2, 3, 4, 5], loc = 1, scale = 4)  \n",
    "print (b)  \n"
   ]
  },
  {
   "cell_type": "code",
   "execution_count": 151,
   "metadata": {},
   "outputs": [
    {
     "name": "stdout",
     "output_type": "stream",
     "text": [
      "                            OLS Regression Results                            \n",
      "==============================================================================\n",
      "Dep. Variable:                      y   R-squared:                       0.238\n",
      "Model:                            OLS   Adj. R-squared:                  0.222\n",
      "Method:                 Least Squares   F-statistic:                     15.13\n",
      "Date:                Wed, 21 Oct 2020   Prob (F-statistic):           1.91e-06\n",
      "Time:                        11:48:16   Log-Likelihood:                -25.320\n",
      "No. Observations:                 100   AIC:                             56.64\n",
      "Df Residuals:                      97   BIC:                             64.46\n",
      "Df Model:                           2                                         \n",
      "Covariance Type:            nonrobust                                         \n",
      "==============================================================================\n",
      "                 coef    std err          t      P>|t|      [0.025      0.975]\n",
      "------------------------------------------------------------------------------\n",
      "const          1.4888      0.088     16.992      0.000       1.315       1.663\n",
      "x1            -0.0090      0.111     -0.081      0.936      -0.229       0.211\n",
      "x2             0.5969      0.109      5.479      0.000       0.381       0.813\n",
      "==============================================================================\n",
      "Omnibus:                       39.766   Durbin-Watson:                   2.254\n",
      "Prob(Omnibus):                  0.000   Jarque-Bera (JB):                6.676\n",
      "Skew:                           0.141   Prob(JB):                       0.0355\n",
      "Kurtosis:                       1.766   Cond. No.                         5.55\n",
      "==============================================================================\n",
      "\n",
      "Warnings:\n",
      "[1] Standard Errors assume that the covariance matrix of the errors is correctly specified.\n"
     ]
    }
   ],
   "source": [
    "import numpy as np  \n",
    "import statsmodels.api as sm  \n",
    "  \n",
    "# Generate artificial data (2 regressors + constant)  \n",
    "nobs = 100  \n",
    " \n",
    "X = np.random.random((nobs, 2))  \n",
    "X = sm.add_constant(X)  \n",
    "\n",
    "beta = [1, .1, .5]  \n",
    " \n",
    "e = np.random.random(nobs)  \n",
    "\n",
    "# Dot product of two arrays\n",
    "y = np.dot(X, beta) + e  \n",
    "  \n",
    "# Fit regression model  \n",
    "results = sm.OLS(y, X).fit()  \n",
    "  \n",
    "# Inspect the results  \n",
    "print(results.summary())  \n"
   ]
  },
  {
   "cell_type": "code",
   "execution_count": null,
   "metadata": {},
   "outputs": [],
   "source": [
    "conda install m2w64-toolchain "
   ]
  },
  {
   "cell_type": "code",
   "execution_count": null,
   "metadata": {},
   "outputs": [],
   "source": [
    "conda install -c conda-forge pymc3 "
   ]
  },
  {
   "cell_type": "code",
   "execution_count": null,
   "metadata": {},
   "outputs": [],
   "source": [
    "conda install theano pygpu"
   ]
  },
  {
   "cell_type": "code",
   "execution_count": null,
   "metadata": {},
   "outputs": [],
   "source": [
    "pip install xarray==0.16.0"
   ]
  },
  {
   "cell_type": "code",
   "execution_count": 152,
   "metadata": {},
   "outputs": [],
   "source": [
    "import pymc3 as pm\n",
    "\n",
    "with pm.Model():  \n",
    "  \n",
    "    x = pm.Normal('x', mu=0, sigma=1)  \n"
   ]
  },
  {
   "cell_type": "code",
   "execution_count": null,
   "metadata": {},
   "outputs": [],
   "source": []
  },
  {
   "cell_type": "code",
   "execution_count": null,
   "metadata": {},
   "outputs": [],
   "source": []
  }
 ],
 "metadata": {
  "kernelspec": {
   "display_name": "Python 3",
   "language": "python",
   "name": "python3"
  },
  "language_info": {
   "codemirror_mode": {
    "name": "ipython",
    "version": 3
   },
   "file_extension": ".py",
   "mimetype": "text/x-python",
   "name": "python",
   "nbconvert_exporter": "python",
   "pygments_lexer": "ipython3",
   "version": "3.7.6"
  }
 },
 "nbformat": 4,
 "nbformat_minor": 4
}
